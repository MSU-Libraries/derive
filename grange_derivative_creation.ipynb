{
 "metadata": {
  "name": "",
  "signature": "sha256:c526e350cb635ff0454330c86ea3a41d8917fcdaf1628e18db01fd2e7c35bb27"
 },
 "nbformat": 3,
 "nbformat_minor": 0,
 "worksheets": [
  {
   "cells": [
    {
     "cell_type": "markdown",
     "metadata": {},
     "source": [
      "Test code to produce image derivatives for Grange collection."
     ]
    },
    {
     "cell_type": "code",
     "collapsed": false,
     "input": [
      "from process import GrangeDerivatives\n",
      "gd = GrangeDerivatives(\"/Users/higgi135/Data/grange/TIFF\")\n",
      "gd.make_page_derivatives(islandora_jpg=False, jpeg_low_quality=True, jp2=True, ocr=False, hocr=False)"
     ],
     "language": "python",
     "metadata": {},
     "outputs": [
      {
       "output_type": "stream",
       "stream": "stdout",
       "text": [
        "Processing derivatives for /Users/higgi135/Data/grange/TIFF/Reel_097/circular_executive_18750401/circular_executive_18750401_001.tif\n",
        "===Starting FITS\n",
        "=====FITS succeeded"
       ]
      },
      {
       "output_type": "stream",
       "stream": "stdout",
       "text": [
        "\n",
        "===Starting Thumbnail conversion\n",
        "=====Thumbnail conversion succeeded"
       ]
      },
      {
       "output_type": "stream",
       "stream": "stdout",
       "text": [
        "\n",
        "===Starting JP2 conversion\n",
        "Command '['convert', '/Users/higgi135/Data/grange/TIFF/Reel_097/circular_executive_18750401/circular_executive_18750401_001.tif', '-define', 'numrlvls=6', '-define', 'jp2:tilewidth=1024', '-define', 'jp2:tileheight=1024', '-define', 'jp2:rate=1.0', '-define', 'jp2:lazy', '-define', 'jp2:prg=rlcp', '-define', \"jp2:ilyrrates='0.015625,0.01858,0.0221,0.025,0.03125,0.03716,0.04419,0.05,0.0625,\", \"0.075,0.088,0.1,0.125,0.15,0.18,0.21,0.25,0.3,0.35,0.4,0.5,0.6,0.7,0.84'\", '-define', 'jp2:mode=int', '/Users/higgi135/Data/grange/JP2/circular_executive_18750401_001_JP2.jp2']' returned non-zero exit status 1"
       ]
      },
      {
       "output_type": "stream",
       "stream": "stdout",
       "text": [
        "\n",
        "1\n",
        "=====JP2 conversion failed\n",
        "===Starting JPEG low-quality conversion\n",
        "=====JPEG low-quality conversion succeeded"
       ]
      },
      {
       "output_type": "stream",
       "stream": "stdout",
       "text": [
        "\n",
        "Processing derivatives for /Users/higgi135/Data/grange/TIFF/Reel_097/circular_executive_18750401/circular_executive_18750401_002.tif\n",
        "===Starting FITS\n",
        "=====FITS succeeded"
       ]
      },
      {
       "output_type": "stream",
       "stream": "stdout",
       "text": [
        "\n",
        "===Starting Thumbnail conversion\n",
        "=====Thumbnail conversion succeeded"
       ]
      },
      {
       "output_type": "stream",
       "stream": "stdout",
       "text": [
        "\n",
        "===Starting JP2 conversion\n",
        "Command '['convert', '/Users/higgi135/Data/grange/TIFF/Reel_097/circular_executive_18750401/circular_executive_18750401_002.tif', '-define', 'numrlvls=6', '-define', 'jp2:tilewidth=1024', '-define', 'jp2:tileheight=1024', '-define', 'jp2:rate=1.0', '-define', 'jp2:lazy', '-define', 'jp2:prg=rlcp', '-define', \"jp2:ilyrrates='0.015625,0.01858,0.0221,0.025,0.03125,0.03716,0.04419,0.05,0.0625,\", \"0.075,0.088,0.1,0.125,0.15,0.18,0.21,0.25,0.3,0.35,0.4,0.5,0.6,0.7,0.84'\", '-define', 'jp2:mode=int', '/Users/higgi135/Data/grange/JP2/circular_executive_18750401_002_JP2.jp2']' returned non-zero exit status 1"
       ]
      },
      {
       "output_type": "stream",
       "stream": "stdout",
       "text": [
        "\n",
        "1\n",
        "=====JP2 conversion failed\n",
        "===Starting JPEG low-quality conversion\n",
        "=====JPEG low-quality conversion succeeded"
       ]
      },
      {
       "output_type": "stream",
       "stream": "stdout",
       "text": [
        "\n",
        "Processing derivatives for /Users/higgi135/Data/grange/TIFF/Reel_097/circular_executive_18750401/circular_executive_18750401_003.tif\n",
        "===Starting FITS\n",
        "=====FITS succeeded"
       ]
      },
      {
       "output_type": "stream",
       "stream": "stdout",
       "text": [
        "\n",
        "===Starting Thumbnail conversion\n",
        "=====Thumbnail conversion succeeded"
       ]
      },
      {
       "output_type": "stream",
       "stream": "stdout",
       "text": [
        "\n",
        "===Starting JP2 conversion\n",
        "Command '['convert', '/Users/higgi135/Data/grange/TIFF/Reel_097/circular_executive_18750401/circular_executive_18750401_003.tif', '-define', 'numrlvls=6', '-define', 'jp2:tilewidth=1024', '-define', 'jp2:tileheight=1024', '-define', 'jp2:rate=1.0', '-define', 'jp2:lazy', '-define', 'jp2:prg=rlcp', '-define', \"jp2:ilyrrates='0.015625,0.01858,0.0221,0.025,0.03125,0.03716,0.04419,0.05,0.0625,\", \"0.075,0.088,0.1,0.125,0.15,0.18,0.21,0.25,0.3,0.35,0.4,0.5,0.6,0.7,0.84'\", '-define', 'jp2:mode=int', '/Users/higgi135/Data/grange/JP2/circular_executive_18750401_003_JP2.jp2']' returned non-zero exit status 1"
       ]
      },
      {
       "output_type": "stream",
       "stream": "stdout",
       "text": [
        "\n",
        "1\n",
        "=====JP2 conversion failed\n",
        "===Starting JPEG low-quality conversion\n",
        "=====JPEG low-quality conversion succeeded"
       ]
      },
      {
       "output_type": "stream",
       "stream": "stdout",
       "text": [
        "\n",
        "Processing derivatives for /Users/higgi135/Data/grange/TIFF/Reel_097/circular_executive_18750401/circular_executive_18750401_004.tif\n",
        "===Starting FITS\n",
        "=====FITS succeeded"
       ]
      },
      {
       "output_type": "stream",
       "stream": "stdout",
       "text": [
        "\n",
        "===Starting Thumbnail conversion\n",
        "=====Thumbnail conversion succeeded"
       ]
      },
      {
       "output_type": "stream",
       "stream": "stdout",
       "text": [
        "\n",
        "===Starting JP2 conversion\n",
        "Command '['convert', '/Users/higgi135/Data/grange/TIFF/Reel_097/circular_executive_18750401/circular_executive_18750401_004.tif', '-define', 'numrlvls=6', '-define', 'jp2:tilewidth=1024', '-define', 'jp2:tileheight=1024', '-define', 'jp2:rate=1.0', '-define', 'jp2:lazy', '-define', 'jp2:prg=rlcp', '-define', \"jp2:ilyrrates='0.015625,0.01858,0.0221,0.025,0.03125,0.03716,0.04419,0.05,0.0625,\", \"0.075,0.088,0.1,0.125,0.15,0.18,0.21,0.25,0.3,0.35,0.4,0.5,0.6,0.7,0.84'\", '-define', 'jp2:mode=int', '/Users/higgi135/Data/grange/JP2/circular_executive_18750401_004_JP2.jp2']' returned non-zero exit status 1"
       ]
      },
      {
       "output_type": "stream",
       "stream": "stdout",
       "text": [
        "\n",
        "1\n",
        "=====JP2 conversion failed\n",
        "===Starting JPEG low-quality conversion\n",
        "=====JPEG low-quality conversion succeeded"
       ]
      },
      {
       "output_type": "stream",
       "stream": "stdout",
       "text": [
        "\n",
        "Processing derivatives for /Users/higgi135/Data/grange/TIFF/Reel_097/circular_executive_18750401/circular_executive_18750401_005.tif\n",
        "===Starting FITS\n",
        "=====FITS succeeded"
       ]
      },
      {
       "output_type": "stream",
       "stream": "stdout",
       "text": [
        "\n",
        "===Starting Thumbnail conversion\n",
        "=====Thumbnail conversion succeeded"
       ]
      },
      {
       "output_type": "stream",
       "stream": "stdout",
       "text": [
        "\n",
        "===Starting JP2 conversion\n",
        "Command '['convert', '/Users/higgi135/Data/grange/TIFF/Reel_097/circular_executive_18750401/circular_executive_18750401_005.tif', '-define', 'numrlvls=6', '-define', 'jp2:tilewidth=1024', '-define', 'jp2:tileheight=1024', '-define', 'jp2:rate=1.0', '-define', 'jp2:lazy', '-define', 'jp2:prg=rlcp', '-define', \"jp2:ilyrrates='0.015625,0.01858,0.0221,0.025,0.03125,0.03716,0.04419,0.05,0.0625,\", \"0.075,0.088,0.1,0.125,0.15,0.18,0.21,0.25,0.3,0.35,0.4,0.5,0.6,0.7,0.84'\", '-define', 'jp2:mode=int', '/Users/higgi135/Data/grange/JP2/circular_executive_18750401_005_JP2.jp2']' returned non-zero exit status 1"
       ]
      },
      {
       "output_type": "stream",
       "stream": "stdout",
       "text": [
        "\n",
        "1\n",
        "=====JP2 conversion failed\n",
        "===Starting JPEG low-quality conversion\n",
        "=====JPEG low-quality conversion succeeded"
       ]
      },
      {
       "output_type": "stream",
       "stream": "stdout",
       "text": [
        "\n",
        "Processing derivatives for /Users/higgi135/Data/grange/TIFF/Reel_097/circular_executive_18750401/circular_executive_18750401_006.tif\n",
        "===Starting FITS\n",
        "=====FITS succeeded"
       ]
      },
      {
       "output_type": "stream",
       "stream": "stdout",
       "text": [
        "\n",
        "===Starting Thumbnail conversion\n",
        "=====Thumbnail conversion succeeded"
       ]
      },
      {
       "output_type": "stream",
       "stream": "stdout",
       "text": [
        "\n",
        "===Starting JP2 conversion\n",
        "Command '['convert', '/Users/higgi135/Data/grange/TIFF/Reel_097/circular_executive_18750401/circular_executive_18750401_006.tif', '-define', 'numrlvls=6', '-define', 'jp2:tilewidth=1024', '-define', 'jp2:tileheight=1024', '-define', 'jp2:rate=1.0', '-define', 'jp2:lazy', '-define', 'jp2:prg=rlcp', '-define', \"jp2:ilyrrates='0.015625,0.01858,0.0221,0.025,0.03125,0.03716,0.04419,0.05,0.0625,\", \"0.075,0.088,0.1,0.125,0.15,0.18,0.21,0.25,0.3,0.35,0.4,0.5,0.6,0.7,0.84'\", '-define', 'jp2:mode=int', '/Users/higgi135/Data/grange/JP2/circular_executive_18750401_006_JP2.jp2']' returned non-zero exit status 1"
       ]
      },
      {
       "output_type": "stream",
       "stream": "stdout",
       "text": [
        "\n",
        "1\n",
        "=====JP2 conversion failed\n",
        "===Starting JPEG low-quality conversion\n",
        "=====JPEG low-quality conversion succeeded"
       ]
      },
      {
       "output_type": "stream",
       "stream": "stdout",
       "text": [
        "\n",
        "Processing derivatives for /Users/higgi135/Data/grange/TIFF/Reel_097/circular_executive_18750401/circular_executive_18750401_007.tif\n",
        "===Starting FITS\n",
        "=====FITS succeeded"
       ]
      },
      {
       "output_type": "stream",
       "stream": "stdout",
       "text": [
        "\n",
        "===Starting Thumbnail conversion\n",
        "=====Thumbnail conversion succeeded"
       ]
      },
      {
       "output_type": "stream",
       "stream": "stdout",
       "text": [
        "\n",
        "===Starting JP2 conversion\n",
        "Command '['convert', '/Users/higgi135/Data/grange/TIFF/Reel_097/circular_executive_18750401/circular_executive_18750401_007.tif', '-define', 'numrlvls=6', '-define', 'jp2:tilewidth=1024', '-define', 'jp2:tileheight=1024', '-define', 'jp2:rate=1.0', '-define', 'jp2:lazy', '-define', 'jp2:prg=rlcp', '-define', \"jp2:ilyrrates='0.015625,0.01858,0.0221,0.025,0.03125,0.03716,0.04419,0.05,0.0625,\", \"0.075,0.088,0.1,0.125,0.15,0.18,0.21,0.25,0.3,0.35,0.4,0.5,0.6,0.7,0.84'\", '-define', 'jp2:mode=int', '/Users/higgi135/Data/grange/JP2/circular_executive_18750401_007_JP2.jp2']' returned non-zero exit status 1"
       ]
      },
      {
       "output_type": "stream",
       "stream": "stdout",
       "text": [
        "\n",
        "1\n",
        "=====JP2 conversion failed\n",
        "===Starting JPEG low-quality conversion\n",
        "=====JPEG low-quality conversion succeeded"
       ]
      },
      {
       "output_type": "stream",
       "stream": "stdout",
       "text": [
        "\n",
        "Processing derivatives for /Users/higgi135/Data/grange/TIFF/Reel_097/circular_executive_18750401/circular_executive_18750401_008.tif\n",
        "===Starting FITS\n",
        "=====FITS succeeded"
       ]
      },
      {
       "output_type": "stream",
       "stream": "stdout",
       "text": [
        "\n",
        "===Starting Thumbnail conversion\n",
        "=====Thumbnail conversion succeeded"
       ]
      },
      {
       "output_type": "stream",
       "stream": "stdout",
       "text": [
        "\n",
        "===Starting JP2 conversion\n",
        "Command '['convert', '/Users/higgi135/Data/grange/TIFF/Reel_097/circular_executive_18750401/circular_executive_18750401_008.tif', '-define', 'numrlvls=6', '-define', 'jp2:tilewidth=1024', '-define', 'jp2:tileheight=1024', '-define', 'jp2:rate=1.0', '-define', 'jp2:lazy', '-define', 'jp2:prg=rlcp', '-define', \"jp2:ilyrrates='0.015625,0.01858,0.0221,0.025,0.03125,0.03716,0.04419,0.05,0.0625,\", \"0.075,0.088,0.1,0.125,0.15,0.18,0.21,0.25,0.3,0.35,0.4,0.5,0.6,0.7,0.84'\", '-define', 'jp2:mode=int', '/Users/higgi135/Data/grange/JP2/circular_executive_18750401_008_JP2.jp2']' returned non-zero exit status 1"
       ]
      },
      {
       "output_type": "stream",
       "stream": "stdout",
       "text": [
        "\n",
        "1\n",
        "=====JP2 conversion failed\n",
        "===Starting JPEG low-quality conversion\n",
        "=====JPEG low-quality conversion succeeded"
       ]
      },
      {
       "output_type": "stream",
       "stream": "stdout",
       "text": [
        "\n",
        "Processing derivatives for /Users/higgi135/Data/grange/TIFF/Reel_097/circular_executive_18750501/circular_executive_18750501_001.tif\n",
        "===Starting FITS\n",
        "=====FITS succeeded"
       ]
      },
      {
       "output_type": "stream",
       "stream": "stdout",
       "text": [
        "\n",
        "===Starting Thumbnail conversion\n",
        "=====Thumbnail conversion succeeded"
       ]
      },
      {
       "output_type": "stream",
       "stream": "stdout",
       "text": [
        "\n",
        "===Starting JP2 conversion\n",
        "Command '['convert', '/Users/higgi135/Data/grange/TIFF/Reel_097/circular_executive_18750501/circular_executive_18750501_001.tif', '-define', 'numrlvls=6', '-define', 'jp2:tilewidth=1024', '-define', 'jp2:tileheight=1024', '-define', 'jp2:rate=1.0', '-define', 'jp2:lazy', '-define', 'jp2:prg=rlcp', '-define', \"jp2:ilyrrates='0.015625,0.01858,0.0221,0.025,0.03125,0.03716,0.04419,0.05,0.0625,\", \"0.075,0.088,0.1,0.125,0.15,0.18,0.21,0.25,0.3,0.35,0.4,0.5,0.6,0.7,0.84'\", '-define', 'jp2:mode=int', '/Users/higgi135/Data/grange/JP2/circular_executive_18750501_001_JP2.jp2']' returned non-zero exit status 1"
       ]
      },
      {
       "output_type": "stream",
       "stream": "stdout",
       "text": [
        "\n",
        "1\n",
        "=====JP2 conversion failed\n",
        "===Starting JPEG low-quality conversion\n",
        "=====JPEG low-quality conversion succeeded"
       ]
      },
      {
       "output_type": "stream",
       "stream": "stdout",
       "text": [
        "\n",
        "Processing derivatives for /Users/higgi135/Data/grange/TIFF/Reel_097/circular_executive_18750501/circular_executive_18750501_002.tif\n",
        "===Starting FITS\n",
        "=====FITS succeeded"
       ]
      },
      {
       "output_type": "stream",
       "stream": "stdout",
       "text": [
        "\n",
        "===Starting Thumbnail conversion\n",
        "=====Thumbnail conversion succeeded"
       ]
      },
      {
       "output_type": "stream",
       "stream": "stdout",
       "text": [
        "\n",
        "===Starting JP2 conversion\n",
        "Command '['convert', '/Users/higgi135/Data/grange/TIFF/Reel_097/circular_executive_18750501/circular_executive_18750501_002.tif', '-define', 'numrlvls=6', '-define', 'jp2:tilewidth=1024', '-define', 'jp2:tileheight=1024', '-define', 'jp2:rate=1.0', '-define', 'jp2:lazy', '-define', 'jp2:prg=rlcp', '-define', \"jp2:ilyrrates='0.015625,0.01858,0.0221,0.025,0.03125,0.03716,0.04419,0.05,0.0625,\", \"0.075,0.088,0.1,0.125,0.15,0.18,0.21,0.25,0.3,0.35,0.4,0.5,0.6,0.7,0.84'\", '-define', 'jp2:mode=int', '/Users/higgi135/Data/grange/JP2/circular_executive_18750501_002_JP2.jp2']' returned non-zero exit status 1"
       ]
      },
      {
       "output_type": "stream",
       "stream": "stdout",
       "text": [
        "\n",
        "1\n",
        "=====JP2 conversion failed\n",
        "===Starting JPEG low-quality conversion\n",
        "=====JPEG low-quality conversion succeeded"
       ]
      },
      {
       "output_type": "stream",
       "stream": "stdout",
       "text": [
        "\n",
        "Processing derivatives for /Users/higgi135/Data/grange/TIFF/Reel_097/circular_executive_18750501/circular_executive_18750501_003.tif\n",
        "===Starting FITS\n",
        "=====FITS succeeded"
       ]
      },
      {
       "output_type": "stream",
       "stream": "stdout",
       "text": [
        "\n",
        "===Starting Thumbnail conversion\n",
        "=====Thumbnail conversion succeeded"
       ]
      },
      {
       "output_type": "stream",
       "stream": "stdout",
       "text": [
        "\n",
        "===Starting JP2 conversion\n",
        "Command '['convert', '/Users/higgi135/Data/grange/TIFF/Reel_097/circular_executive_18750501/circular_executive_18750501_003.tif', '-define', 'numrlvls=6', '-define', 'jp2:tilewidth=1024', '-define', 'jp2:tileheight=1024', '-define', 'jp2:rate=1.0', '-define', 'jp2:lazy', '-define', 'jp2:prg=rlcp', '-define', \"jp2:ilyrrates='0.015625,0.01858,0.0221,0.025,0.03125,0.03716,0.04419,0.05,0.0625,\", \"0.075,0.088,0.1,0.125,0.15,0.18,0.21,0.25,0.3,0.35,0.4,0.5,0.6,0.7,0.84'\", '-define', 'jp2:mode=int', '/Users/higgi135/Data/grange/JP2/circular_executive_18750501_003_JP2.jp2']' returned non-zero exit status 1"
       ]
      },
      {
       "output_type": "stream",
       "stream": "stdout",
       "text": [
        "\n",
        "1\n",
        "=====JP2 conversion failed\n",
        "===Starting JPEG low-quality conversion\n",
        "=====JPEG low-quality conversion succeeded"
       ]
      },
      {
       "output_type": "stream",
       "stream": "stdout",
       "text": [
        "\n",
        "Processing derivatives for /Users/higgi135/Data/grange/TIFF/Reel_097/circular_executive_18750501/circular_executive_18750501_004.tif\n",
        "===Starting FITS\n",
        "=====FITS succeeded"
       ]
      },
      {
       "output_type": "stream",
       "stream": "stdout",
       "text": [
        "\n",
        "===Starting Thumbnail conversion\n",
        "=====Thumbnail conversion succeeded"
       ]
      },
      {
       "output_type": "stream",
       "stream": "stdout",
       "text": [
        "\n",
        "===Starting JP2 conversion\n",
        "Command '['convert', '/Users/higgi135/Data/grange/TIFF/Reel_097/circular_executive_18750501/circular_executive_18750501_004.tif', '-define', 'numrlvls=6', '-define', 'jp2:tilewidth=1024', '-define', 'jp2:tileheight=1024', '-define', 'jp2:rate=1.0', '-define', 'jp2:lazy', '-define', 'jp2:prg=rlcp', '-define', \"jp2:ilyrrates='0.015625,0.01858,0.0221,0.025,0.03125,0.03716,0.04419,0.05,0.0625,\", \"0.075,0.088,0.1,0.125,0.15,0.18,0.21,0.25,0.3,0.35,0.4,0.5,0.6,0.7,0.84'\", '-define', 'jp2:mode=int', '/Users/higgi135/Data/grange/JP2/circular_executive_18750501_004_JP2.jp2']' returned non-zero exit status 1"
       ]
      },
      {
       "output_type": "stream",
       "stream": "stdout",
       "text": [
        "\n",
        "1\n",
        "=====JP2 conversion failed\n",
        "===Starting JPEG low-quality conversion\n",
        "=====JPEG low-quality conversion succeeded"
       ]
      },
      {
       "output_type": "stream",
       "stream": "stdout",
       "text": [
        "\n",
        "Processing derivatives for /Users/higgi135/Data/grange/TIFF/Reel_097/circular_executive_18750501/circular_executive_18750501_005.tif\n",
        "===Starting FITS\n",
        "=====FITS succeeded"
       ]
      },
      {
       "output_type": "stream",
       "stream": "stdout",
       "text": [
        "\n",
        "===Starting Thumbnail conversion\n",
        "=====Thumbnail conversion succeeded"
       ]
      },
      {
       "output_type": "stream",
       "stream": "stdout",
       "text": [
        "\n",
        "===Starting JP2 conversion\n",
        "Command '['convert', '/Users/higgi135/Data/grange/TIFF/Reel_097/circular_executive_18750501/circular_executive_18750501_005.tif', '-define', 'numrlvls=6', '-define', 'jp2:tilewidth=1024', '-define', 'jp2:tileheight=1024', '-define', 'jp2:rate=1.0', '-define', 'jp2:lazy', '-define', 'jp2:prg=rlcp', '-define', \"jp2:ilyrrates='0.015625,0.01858,0.0221,0.025,0.03125,0.03716,0.04419,0.05,0.0625,\", \"0.075,0.088,0.1,0.125,0.15,0.18,0.21,0.25,0.3,0.35,0.4,0.5,0.6,0.7,0.84'\", '-define', 'jp2:mode=int', '/Users/higgi135/Data/grange/JP2/circular_executive_18750501_005_JP2.jp2']' returned non-zero exit status 1"
       ]
      },
      {
       "output_type": "stream",
       "stream": "stdout",
       "text": [
        "\n",
        "1\n",
        "=====JP2 conversion failed\n",
        "===Starting JPEG low-quality conversion\n",
        "=====JPEG low-quality conversion succeeded"
       ]
      },
      {
       "output_type": "stream",
       "stream": "stdout",
       "text": [
        "\n",
        "Processing derivatives for /Users/higgi135/Data/grange/TIFF/Reel_097/circular_executive_18750501/circular_executive_18750501_006.tif\n",
        "===Starting FITS\n",
        "=====FITS succeeded"
       ]
      },
      {
       "output_type": "stream",
       "stream": "stdout",
       "text": [
        "\n",
        "===Starting Thumbnail conversion\n",
        "=====Thumbnail conversion succeeded"
       ]
      },
      {
       "output_type": "stream",
       "stream": "stdout",
       "text": [
        "\n",
        "===Starting JP2 conversion\n",
        "Command '['convert', '/Users/higgi135/Data/grange/TIFF/Reel_097/circular_executive_18750501/circular_executive_18750501_006.tif', '-define', 'numrlvls=6', '-define', 'jp2:tilewidth=1024', '-define', 'jp2:tileheight=1024', '-define', 'jp2:rate=1.0', '-define', 'jp2:lazy', '-define', 'jp2:prg=rlcp', '-define', \"jp2:ilyrrates='0.015625,0.01858,0.0221,0.025,0.03125,0.03716,0.04419,0.05,0.0625,\", \"0.075,0.088,0.1,0.125,0.15,0.18,0.21,0.25,0.3,0.35,0.4,0.5,0.6,0.7,0.84'\", '-define', 'jp2:mode=int', '/Users/higgi135/Data/grange/JP2/circular_executive_18750501_006_JP2.jp2']' returned non-zero exit status 1"
       ]
      },
      {
       "output_type": "stream",
       "stream": "stdout",
       "text": [
        "\n",
        "1\n",
        "=====JP2 conversion failed\n",
        "===Starting JPEG low-quality conversion\n",
        "=====JPEG low-quality conversion succeeded"
       ]
      },
      {
       "output_type": "stream",
       "stream": "stdout",
       "text": [
        "\n",
        "Processing derivatives for /Users/higgi135/Data/grange/TIFF/Reel_097/circular_executive_18750501/circular_executive_18750501_007.tif\n",
        "===Starting FITS\n",
        "=====FITS succeeded"
       ]
      },
      {
       "output_type": "stream",
       "stream": "stdout",
       "text": [
        "\n",
        "===Starting Thumbnail conversion\n",
        "=====Thumbnail conversion succeeded"
       ]
      },
      {
       "output_type": "stream",
       "stream": "stdout",
       "text": [
        "\n",
        "===Starting JP2 conversion\n",
        "Command '['convert', '/Users/higgi135/Data/grange/TIFF/Reel_097/circular_executive_18750501/circular_executive_18750501_007.tif', '-define', 'numrlvls=6', '-define', 'jp2:tilewidth=1024', '-define', 'jp2:tileheight=1024', '-define', 'jp2:rate=1.0', '-define', 'jp2:lazy', '-define', 'jp2:prg=rlcp', '-define', \"jp2:ilyrrates='0.015625,0.01858,0.0221,0.025,0.03125,0.03716,0.04419,0.05,0.0625,\", \"0.075,0.088,0.1,0.125,0.15,0.18,0.21,0.25,0.3,0.35,0.4,0.5,0.6,0.7,0.84'\", '-define', 'jp2:mode=int', '/Users/higgi135/Data/grange/JP2/circular_executive_18750501_007_JP2.jp2']' returned non-zero exit status 1"
       ]
      },
      {
       "output_type": "stream",
       "stream": "stdout",
       "text": [
        "\n",
        "1\n",
        "=====JP2 conversion failed\n",
        "===Starting JPEG low-quality conversion\n",
        "=====JPEG low-quality conversion succeeded"
       ]
      }
     ]
    },
    {
     "cell_type": "code",
     "collapsed": false,
     "input": [],
     "language": "python",
     "metadata": {},
     "outputs": []
    },
    {
     "cell_type": "code",
     "collapsed": false,
     "input": [],
     "language": "python",
     "metadata": {},
     "outputs": []
    }
   ],
   "metadata": {}
  }
 ]
}