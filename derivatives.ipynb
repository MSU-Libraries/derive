{
 "cells": [
  {
   "cell_type": "markdown",
   "metadata": {},
   "source": [
    "## Derivative Creation Tools"
   ]
  },
  {
   "cell_type": "markdown",
   "metadata": {},
   "source": [
    "Use the code below to generate derivatives of `TIF` files."
   ]
  },
  {
   "cell_type": "markdown",
   "metadata": {},
   "source": [
    "In line `3` below, specify the derivative options you'd like to run. Currently supported outputs, along with the parameter used to invoke them, are:\n",
    "\n",
    "+    JP2 (jp2)\n",
    "+    Low quality JPG (jpeg_low_quality)\n",
    "+    Thumbnail (tn)\n",
    "+    FITS file metadata (fits)\n",
    "+    OCR (ocr)\n",
    "+    HOCR (hocr)\n",
    "\n",
    "Appropriate tools must first be installed: ImageMagick, FITS, or Tesseract, depending on which derivatives are needed.\n",
    "\n",
    "+ Image derivatives are generated using `ImageMagick`  commands found in the `settings.cfg` file. \n",
    "+ FITS metadata generated via FITS tool. Location of `fits.sh` should be specified in `settings.cfg`.\n",
    "+ OCR and HOCR text files are generated using `Tesseract`.\n",
    "\n",
    "If the `flat_dir` parameter is set to \"True\" (this is the default), the code presumes a certain directory structure,\n",
    "    \n",
    "        [Project Name]/\n",
    "            TIFF/\n",
    "            JP2/\n",
    "            JPG/\n",
    "            OCR/\n",
    "            HOCR/\n",
    "            FITS/\n",
    "            \n",
    "which should be created beforehand. The directory supplied in line `2` below should be to the *project* not the `TIFF` folder.\n",
    "\n",
    "If `flat_dir` is set to `false`, then derivatives will be created alongside the source file. In this case the directory specified in line `2` below should be any top-level directory above all files to be processed, and the script will look within subfolders to find any images of the type specified."
   ]
  },
  {
   "cell_type": "code",
   "execution_count": null,
   "metadata": {
    "collapsed": false
   },
   "outputs": [],
   "source": [
    "from process import PdfDerivatives\n",
    "pdfd = PdfDerivatives(\"/Volumes/fedcom_ingest/ETD\", \"/Volumes/fedcom_ingest/ETD-Ingest/\", unzip_files=True)\n",
    "#pdfd = PdfDerivatives(\"test\", \"test_unzipped/\", unzip_files=True)\n",
    "# pdfd.make_pdf_derivatives(tn=True, preview=True, pdf2text=True)"
   ]
  },
  {
   "cell_type": "code",
   "execution_count": null,
   "metadata": {
    "collapsed": false
   },
   "outputs": [],
   "source": [
    "from process import PdfDerivatives\n",
    "#pdfd = PdfDerivatives(\"/Volumes/fedcom_ingest/ETD\", \"/Volumes/fedcom_ingest/ETD-Ingest/\")\n",
    "pdfd = PdfDerivatives(\"/Volumes/fedcom_ingest/ETD-Ingest/\", exclude_string=\"._\")\n",
    "pdfd.make_pdf_derivatives(fits=True, pdf2text=True)"
   ]
  },
  {
   "cell_type": "code",
   "execution_count": null,
   "metadata": {
    "collapsed": false
   },
   "outputs": [],
   "source": [
    "from process import ImageDerivatives\n",
    "imd = ImageDerivatives(\"/Volumes/fedcom_ingest/GrangeVisitorTest/\")\n",
    "imd.make_image_derivatives(hocr=True)"
   ]
  },
  {
   "cell_type": "markdown",
   "metadata": {},
   "source": [
    "In this example, `flat_dir` is set to false, meaning all files that end with `.tif` will be processed. (The `filetype` keyword argument in the `ImageDerivatives` class instantiations defaults to \".tif\"."
   ]
  },
  {
   "cell_type": "code",
   "execution_count": null,
   "metadata": {
    "collapsed": false
   },
   "outputs": [],
   "source": [
    "from process import ImageDerivatives\n",
    "imd = ImageDerivatives(\"/Volumes/fedcom_ingest/MICHILAC/batch 2\", flat_dir=False, exclude_string=\"originals\")\n",
    "imd.make_image_derivatives(jp2=True, tn=True, jpeg_low_quality=True, jpeg_high_quality=True, fits=True)"
   ]
  },
  {
   "cell_type": "markdown",
   "metadata": {
    "collapsed": true
   },
   "source": [
    "#### Hopefully this won't be needed again!\n",
    "Code to remove the `doctype` declaration from all `HOCR` files. This `DTD` reference was interfering with the `Gsearch` transformation (using `xalan`), causing it to take 1 second for every page."
   ]
  },
  {
   "cell_type": "code",
   "execution_count": null,
   "metadata": {
    "collapsed": false
   },
   "outputs": [],
   "source": [
    "import os\n",
    "import re\n",
    "base_path = \"/Volumes/fedcom_ingest/GrangeVisitor/OCR\"\n",
    "files = [f for f in os.listdir(base_path) if f.endswith(\"html\")]\n",
    "for f in files:\n",
    "    with open(os.path.join(base_path, f), \"r\") as input_file:\n",
    "        text = input_file.read()\n",
    "        \n",
    "    with open(os.path.join(base_path, f), \"w\") as output_file:\n",
    "        output_file.write(re.sub(r'<!DOCTYPE.*?>', \"<!DOCTYPE html>\", text, flags=re.DOTALL))"
   ]
  }
 ],
 "metadata": {
  "kernelspec": {
   "display_name": "Python 2",
   "language": "python",
   "name": "python2"
  },
  "language_info": {
   "codemirror_mode": {
    "name": "ipython",
    "version": 2
   },
   "file_extension": ".py",
   "mimetype": "text/x-python",
   "name": "python",
   "nbconvert_exporter": "python",
   "pygments_lexer": "ipython2",
   "version": "2.7.10"
  }
 },
 "nbformat": 4,
 "nbformat_minor": 0
}
