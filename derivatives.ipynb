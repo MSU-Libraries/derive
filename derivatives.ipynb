{
 "cells": [
  {
   "cell_type": "markdown",
   "metadata": {},
   "source": [
    "##Derivative Creation Tools"
   ]
  },
  {
   "cell_type": "markdown",
   "metadata": {},
   "source": [
    "Use the code below to generate derivatives of `TIF` files."
   ]
  },
  {
   "cell_type": "markdown",
   "metadata": {},
   "source": [
    "In line `3` below, specify the derivative options you'd like to run. Currently supported outputs, along with the parameter used to invoke them, are:\n",
    "\n",
    "+    JP2 (jp2)\n",
    "+    Low quality JPG (jpeg_low_quality)\n",
    "+    Thumbnail (tn)\n",
    "+    FITS file metadata (fits)\n",
    "+    OCR (ocr)\n",
    "+    HOCR (hocr)\n",
    "\n",
    "Appropriate tools must first be installed: ImageMagick, FITS, or Tesseract, depending on which derivatives are needed.\n",
    "\n",
    "+ Image derivatives are generated using `ImageMagick`  commands found in the `settings.cfg` file. \n",
    "+ FITS metadata generated via FITS tool. Location of `fits.sh` should be specified in `settings.cfg`.\n",
    "+ OCR and HOCR text files are generated using `Tesseract`.\n",
    "\n",
    "The code presumes a certain directory structure,\n",
    "    \n",
    "        [Project Name]/\n",
    "            TIFF/\n",
    "            JP2/\n",
    "            JPG/\n",
    "            OCR/\n",
    "            HOCR/\n",
    "            FITS/\n",
    "            \n",
    "which should be created beforehand. The directory supplied in line `2` below should be to the *project* not the `TIFF` folder."
   ]
  },
  {
   "cell_type": "code",
   "execution_count": null,
   "metadata": {
    "collapsed": false
   },
   "outputs": [],
   "source": [
    "from process import ImageDerivatives\n",
    "imd = ImageDerivatives(\"/Volumes/fedcom_ingest/GrangeVisitorTest/\")\n",
    "imd.make_image_derivatives(hocr=True)"
   ]
  },
  {
   "cell_type": "markdown",
   "metadata": {
    "collapsed": true
   },
   "source": [
    "####Hopefully this won't be needed again!\n",
    "Code to remove the `doctype` declaration from all `HOCR` files. This `DTD` reference was interfering with the `Gsearch` transformation (using `xalan`), causing it to take 1 second for every page."
   ]
  },
  {
   "cell_type": "code",
   "execution_count": 5,
   "metadata": {
    "collapsed": false
   },
   "outputs": [],
   "source": [
    "import os\n",
    "import re\n",
    "base_path = \"/Volumes/fedcom_ingest/GrangeVisitor/OCR\"\n",
    "files = [f for f in os.listdir(base_path) if f.endswith(\"html\")]\n",
    "for f in files:\n",
    "    with open(os.path.join(base_path, f), \"r\") as input_file:\n",
    "        text = input_file.read()\n",
    "        \n",
    "    with open(os.path.join(base_path, f), \"w\") as output_file:\n",
    "        output_file.write(re.sub(r'<!DOCTYPE.*?>', \"<!DOCTYPE html>\", text, flags=re.DOTALL))"
   ]
  }
 ],
 "metadata": {
  "kernelspec": {
   "display_name": "Python 2",
   "language": "python",
   "name": "python2"
  },
  "language_info": {
   "codemirror_mode": {
    "name": "ipython",
    "version": 2
   },
   "file_extension": ".py",
   "mimetype": "text/x-python",
   "name": "python",
   "nbconvert_exporter": "python",
   "pygments_lexer": "ipython2",
   "version": "2.7.3"
  }
 },
 "nbformat": 4,
 "nbformat_minor": 0
}
